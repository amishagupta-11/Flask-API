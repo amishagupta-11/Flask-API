{
 "cells": [
  {
   "cell_type": "code",
   "execution_count": 1,
   "id": "bbf3ec42-643c-4c8a-a2d8-3a8d6ef41a29",
   "metadata": {},
   "outputs": [
    {
     "name": "stdout",
     "output_type": "stream",
     "text": [
      "Requirement already satisfied: requests==2.32.3 in c:\\anaconda\\lib\\site-packages (2.32.3)\n",
      "Requirement already satisfied: charset-normalizer<4,>=2 in c:\\anaconda\\lib\\site-packages (from requests==2.32.3) (3.3.2)\n",
      "Requirement already satisfied: idna<4,>=2.5 in c:\\anaconda\\lib\\site-packages (from requests==2.32.3) (3.7)\n",
      "Requirement already satisfied: urllib3<3,>=1.21.1 in c:\\anaconda\\lib\\site-packages (from requests==2.32.3) (2.2.3)\n",
      "Requirement already satisfied: certifi>=2017.4.17 in c:\\anaconda\\lib\\site-packages (from requests==2.32.3) (2024.8.30)\n",
      "Note: you may need to restart the kernel to use updated packages.\n"
     ]
    }
   ],
   "source": [
    "pip install requests==2.32.3"
   ]
  },
  {
   "cell_type": "code",
   "execution_count": 2,
   "id": "e3c3deaa-6765-4632-b774-526773a59a91",
   "metadata": {},
   "outputs": [],
   "source": [
    "import requests"
   ]
  },
  {
   "cell_type": "code",
   "execution_count": 6,
   "id": "77e2ca30-a346-43dd-9006-dbe7b8acf59d",
   "metadata": {},
   "outputs": [],
   "source": [
    "url=\"http://127.0.0.1:5000/predict\""
   ]
  },
  {
   "cell_type": "code",
   "execution_count": 7,
   "id": "85c1d21a-3b2d-44c5-a5e5-dc05ee9e6830",
   "metadata": {},
   "outputs": [],
   "source": [
    "data={\n",
    "    \"Pregnancies\":6,\n",
    "    \"Glucose\":148,\n",
    "    \"BloodPressure\":72,\n",
    "    \"SkinThickness\":35,\n",
    "    \"Insulin\":0,\n",
    "    \"BMI\":33.6,\n",
    "    \"DiabetesPedigreeFunction\":0.627,\n",
    "    \"Age\":50\n",
    "}"
   ]
  },
  {
   "cell_type": "code",
   "execution_count": 9,
   "id": "dd5c0cf1-9960-4435-ad0e-cbf20cfa3ec7",
   "metadata": {},
   "outputs": [
    {
     "name": "stdout",
     "output_type": "stream",
     "text": [
      "{'prediction': 'Diabetes'}\n"
     ]
    }
   ],
   "source": [
    "response=requests.post(url,json=data)\n",
    "print(response.json())"
   ]
  },
  {
   "cell_type": "code",
   "execution_count": 10,
   "id": "05d33912-4e62-48a2-8a47-77e46c2bc264",
   "metadata": {},
   "outputs": [],
   "source": [
    "data=[]"
   ]
  },
  {
   "cell_type": "code",
   "execution_count": 11,
   "id": "0d90b5ee-01b8-4ca4-88ad-ce66283484c9",
   "metadata": {},
   "outputs": [
    {
     "name": "stdout",
     "output_type": "stream",
     "text": [
      "<Response [400]>\n",
      "{'error': 'Input data not provided'}\n"
     ]
    }
   ],
   "source": [
    "response=requests.post(url,json=data)\n",
    "print(response)\n",
    "print(response.json())"
   ]
  },
  {
   "cell_type": "code",
   "execution_count": 13,
   "id": "e89f991a-7e78-48ed-b0a1-708452fde59e",
   "metadata": {},
   "outputs": [],
   "source": [
    "data={\n",
    "    \"Pregnancies\":6,\n",
    "    \"Glucose\":148,\n",
    "    \"BloodPressure\":72,\n",
    "    \"SkinThickness\":35,\n",
    "    \"Insulin\":0,\n",
    "    \"BMI\":33.6,\n",
    "    \"DiabetesPedigreeFunction\":0.627\n",
    "}"
   ]
  },
  {
   "cell_type": "code",
   "execution_count": 14,
   "id": "ee039993-fb3e-44ee-8f21-19cfa5ef931c",
   "metadata": {},
   "outputs": [
    {
     "name": "stdout",
     "output_type": "stream",
     "text": [
      "<Response [400]>\n",
      "{'error': \"Required columns missing.Required columns:['Pregnancies', 'Glucose', 'BloodPressure', 'SkinThickness', 'Insulin', 'BMI', 'DiabetesPedigreeFunction', 'Age']\"}\n"
     ]
    }
   ],
   "source": [
    "response=requests.post(url,json=data)\n",
    "print(response)\n",
    "print(response.json())"
   ]
  },
  {
   "cell_type": "code",
   "execution_count": null,
   "id": "e73bced2-cdf0-4b59-aa50-a2558efb5a0e",
   "metadata": {},
   "outputs": [],
   "source": []
  }
 ],
 "metadata": {
  "kernelspec": {
   "display_name": "Python 3 (ipykernel)",
   "language": "python",
   "name": "python3"
  },
  "language_info": {
   "codemirror_mode": {
    "name": "ipython",
    "version": 3
   },
   "file_extension": ".py",
   "mimetype": "text/x-python",
   "name": "python",
   "nbconvert_exporter": "python",
   "pygments_lexer": "ipython3",
   "version": "3.12.7"
  }
 },
 "nbformat": 4,
 "nbformat_minor": 5
}
